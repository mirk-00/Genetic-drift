{
 "cells": [
  {
   "cell_type": "code",
   "execution_count": 46,
   "metadata": {},
   "outputs": [
    {
     "ename": "TypeError",
     "evalue": "unsupported operand type(s) for ** or pow(): 'dict' and 'dict'",
     "output_type": "error",
     "traceback": [
      "\u001b[1;31m---------------------------------------------------------------------------\u001b[0m",
      "\u001b[1;31mTypeError\u001b[0m                                 Traceback (most recent call last)",
      "\u001b[1;32mc:\\Users\\mirko\\Documents\\PhD\\Leiden\\Insect Biodiversity\\Population\\population_test.ipynb Cell 1\u001b[0m in \u001b[0;36m<cell line: 1>\u001b[1;34m()\u001b[0m\n\u001b[1;32m----> <a href='vscode-notebook-cell:/c%3A/Users/mirko/Documents/PhD/Leiden/Insect%20Biodiversity/Population/population_test.ipynb#W4sZmlsZQ%3D%3D?line=0'>1</a>\u001b[0m {\u001b[39m'\u001b[39;49m\u001b[39ma\u001b[39;49m\u001b[39m'\u001b[39;49m:\u001b[39m'\u001b[39;49m\u001b[39m4\u001b[39;49m\u001b[39m'\u001b[39;49m}\u001b[39m*\u001b[39;49m\u001b[39m*\u001b[39;49m{\u001b[39m'\u001b[39;49m\u001b[39mb\u001b[39;49m\u001b[39m'\u001b[39;49m:\u001b[39m'\u001b[39;49m\u001b[39m3\u001b[39;49m\u001b[39m'\u001b[39;49m}\n",
      "\u001b[1;31mTypeError\u001b[0m: unsupported operand type(s) for ** or pow(): 'dict' and 'dict'"
     ]
    }
   ],
   "source": [
    "{'a':'4'}**{'b':'3'}"
   ]
  },
  {
   "cell_type": "code",
   "execution_count": 37,
   "metadata": {},
   "outputs": [],
   "source": [
    "import numpy as np\n",
    "import plotly.io as pio\n",
    "import plotly.graph_objects as go\n",
    "import pandas as pd\n",
    "import matplotlib as mpl\n",
    "from http import server\n",
    "from dash import Dash, html, dcc\n",
    "import plotly.express as px\n",
    "import dash_bootstrap_components as dbc\n",
    "from glob import glob\n",
    "from dash.dependencies import Input, Output"
   ]
  },
  {
   "cell_type": "code",
   "execution_count": 38,
   "metadata": {},
   "outputs": [],
   "source": [
    "## Palette\n",
    "def colorFader(c1,c2,mix=0.0): #fade (linear interpolate) from color c1 (at mix=0) to c2 (mix=1)\n",
    "    c1=np.array(mpl.colors.to_rgb(c1))\n",
    "    c2=np.array(mpl.colors.to_rgb(c2))\n",
    "    return mpl.colors.to_hex((1-mix)*c1 + mix*c2)\n",
    "\n",
    "#gradiente neon\n",
    "# c1 = '#f72585'\n",
    "# c2 = '#4cc9f0'\n",
    "\n",
    "#gradiente dark RB\n",
    "# c1 = '#b7094c'\n",
    "# c2 = '#0091ad'\n",
    "\n",
    "#gradiente desaturated mint\n",
    "# c1 = '#cad2c5'\n",
    "# c2 = '#2f3e46'\n",
    "\n",
    "#mint gradient\n",
    "# c1 = '#B9CBC3'\n",
    "# c2 = '#1a231f'\n",
    "\n",
    "#Sage and Fern\n",
    "c1 = '#5a7976'\n",
    "c2 = '#b0dadd'\n",
    "\n",
    "#vapor pastel gradient\n",
    "# c1 = '#70BAFF'\n",
    "# c2 = '#FF85B1'\n",
    "\n",
    "##############################################################################à\n",
    "## Init\n",
    "# Set variabili iniziali\n",
    "p_in = 0.5\n",
    "rep = 5  #repliche, diversi loci indipendenti\n",
    "gens = 100\n",
    "xx = np.arange(gens+1)\n",
    "#template della palette dei grafici\n",
    "pio.templates['grad'] = go.layout.Template(\n",
    "    layout=dict(\n",
    "        colorway=[colorFader(c1, c2, x/rep) for x in range(rep)]\n",
    "    )\n",
    ")\n",
    "############################################################################\n",
    "#Funzione di estrazione modello Wright-Fisher\n",
    "def extract(p, size):\n",
    "    N=size\n",
    "    randomlist = np.random.rand(2*N)\n",
    "    newgen_alleles = [1 if x <= p else 0 for x in randomlist]\n",
    "    # calcolo dei genotipi\n",
    "    newgentype = [(newgen_alleles[i]+newgen_alleles[i+1]) for i in range(0, (2*N), 2)]\n",
    "    #calcolo della nuova frequenza\n",
    "    newp = sum(newgen_alleles)/(2*N)\n",
    "    return newgen_alleles, newgentype, newp\n",
    "\n",
    "#Calcolo della frequenza p ad ogni generazione\n",
    "def calcp_vector(p, gens, size):\n",
    "    pv = []\n",
    "    pv.append(p_in)\n",
    "    for g in range(gens):\n",
    "        a, b, p = extract(p, size)\n",
    "        pv.append(p)\n",
    "        if p == 0 or p == 1: break\n",
    "    while len(pv) < gens+1:\n",
    "        pv.append(pv[-1])\n",
    "    return pv\n",
    "\n",
    "#matrice di pv per repliche indipendenti\n",
    "def calcp_matrix(size):\n",
    "    pm = []\n",
    "    for r in range(rep+1):\n",
    "        pv = calcp_vector(p_in, gens,size)\n",
    "        pm.append(pv)\n",
    "    return pm\n",
    "\n",
    "\n",
    "#grafico frequenza contro generazioni\n",
    "#Qui uso Plotly go\n",
    "def graph_freq(pm,size):\n",
    "    fig = go.Figure()\n",
    "    fig.update_layout(\n",
    "        yaxis_range=[0, 1],\n",
    "        template='plotly_white+grad',\n",
    "        title=dict(\n",
    "            text='Population Dimension N=%s' %size,\n",
    "            font=dict(size=16),\n",
    "        )\n",
    "    )\n",
    "    fig.update_xaxes(\n",
    "        title_text='Generations'\n",
    "    )\n",
    "    fig.update_yaxes(\n",
    "        title_text='Allele Frequency'\n",
    "    )\n",
    "\n",
    "    for i in range(rep):\n",
    "        fig.add_trace(go.Scatter(\n",
    "            x=xx,\n",
    "            y=pm[i],\n",
    "            showlegend=False\n",
    "        ))\n",
    "    return fig\n",
    "\n",
    "#Calcolo deltaP per selezione\n",
    "def deltaP(p_vec, w_vec, w11, w12, w22):\n",
    "    qq = 1 - p_vec[-1]\n",
    "    w_mean = (p_vec[-1]) ** 2 * w11 + 2 * p_vec[-1] * qq * w12 + qq ** 2 * w22\n",
    "    w_vec.append(w_mean)\n",
    "    deltap = (p_vec[-1] * qq * (\n",
    "                (p_vec[-1] * w11 + qq * w12) - (p_vec[-1] * w12 + qq * w22))) / w_mean\n",
    "    return deltap\n",
    "\n",
    "#Calcolo della frequenza p ad ogni generazione CON SELEZIONE\n",
    "def calcp_vector_sel(size, p, gens, w11, w12, w22):\n",
    "    pv = []\n",
    "    pv.append(p)\n",
    "    w_vec = []\n",
    "    for g in range(gens):\n",
    "        a, b, p = extract(p, size)\n",
    "        if p == 0 or p == 1:\n",
    "            pv.append(p)\n",
    "            break\n",
    "        deltap = deltaP(pv,w_vec, w11, w12, w22)\n",
    "        p = p + deltap\n",
    "        pv.append(p)\n",
    "    while len(pv) < gens+1:\n",
    "        pv.append(pv[-1])\n",
    "    return pv\n",
    "\n",
    "\n",
    "def calcp_matrix_sel(size, w11, w12, w22, p0):\n",
    "    pm = []\n",
    "    for r in range(rep+1):\n",
    "        pv = calcp_vector_sel(size, p0, gens, w11, w12, w22)\n",
    "        pm.append(pv)\n",
    "    return pm"
   ]
  },
  {
   "cell_type": "code",
   "execution_count": 39,
   "metadata": {},
   "outputs": [],
   "source": [
    "def plot_drift(string='selection', p0=0.01, w11=1, w12=0.8, w22=0.6):\n",
    "    size = int(input('Select Size:'))\n",
    "    if size == None:\n",
    "        return ''\n",
    "    if string == 'drift':\n",
    "        pm = calcp_matrix(size)\n",
    "    if string == 'selection':\n",
    "        pm = calcp_matrix_sel(size, w11, w12, w22, p0)\n",
    "    return graph_freq(pm, size)"
   ]
  },
  {
   "cell_type": "code",
   "execution_count": 40,
   "metadata": {},
   "outputs": [
    {
     "data": {
      "application/vnd.plotly.v1+json": {
       "config": {
        "plotlyServerURL": "https://plot.ly"
       },
       "data": [
        {
         "showlegend": false,
         "type": "scatter",
         "x": [
          0,
          1,
          2,
          3,
          4,
          5,
          6,
          7,
          8,
          9,
          10,
          11,
          12,
          13,
          14,
          15,
          16,
          17,
          18,
          19,
          20,
          21,
          22,
          23,
          24,
          25,
          26,
          27,
          28,
          29,
          30,
          31,
          32,
          33,
          34,
          35,
          36,
          37,
          38,
          39,
          40,
          41,
          42,
          43,
          44,
          45,
          46,
          47,
          48,
          49,
          50,
          51,
          52,
          53,
          54,
          55,
          56,
          57,
          58,
          59,
          60,
          61,
          62,
          63,
          64,
          65,
          66,
          67,
          68,
          69,
          70,
          71,
          72,
          73,
          74,
          75,
          76,
          77,
          78,
          79,
          80,
          81,
          82,
          83,
          84,
          85,
          86,
          87,
          88,
          89,
          90,
          91,
          92,
          93,
          94,
          95,
          96,
          97,
          98,
          99,
          100
         ],
         "y": [
          0.5,
          0.485,
          0.365,
          0.34,
          0.295,
          0.295,
          0.305,
          0.31,
          0.315,
          0.25,
          0.22,
          0.205,
          0.17,
          0.185,
          0.15,
          0.16,
          0.115,
          0.135,
          0.115,
          0.11,
          0.135,
          0.15,
          0.09,
          0.11,
          0.08,
          0.105,
          0.12,
          0.13,
          0.145,
          0.09,
          0.065,
          0.07,
          0.06,
          0.055,
          0.04,
          0.035,
          0.045,
          0.035,
          0.035,
          0.02,
          0.01,
          0.015,
          0.025,
          0.02,
          0.03,
          0.045,
          0.06,
          0.05,
          0.045,
          0.06,
          0.065,
          0.075,
          0.07,
          0.06,
          0.075,
          0.08,
          0.065,
          0.06,
          0.04,
          0.01,
          0.01,
          0.005,
          0,
          0,
          0,
          0,
          0,
          0,
          0,
          0,
          0,
          0,
          0,
          0,
          0,
          0,
          0,
          0,
          0,
          0,
          0,
          0,
          0,
          0,
          0,
          0,
          0,
          0,
          0,
          0,
          0,
          0,
          0,
          0,
          0,
          0,
          0,
          0,
          0,
          0,
          0
         ]
        },
        {
         "showlegend": false,
         "type": "scatter",
         "x": [
          0,
          1,
          2,
          3,
          4,
          5,
          6,
          7,
          8,
          9,
          10,
          11,
          12,
          13,
          14,
          15,
          16,
          17,
          18,
          19,
          20,
          21,
          22,
          23,
          24,
          25,
          26,
          27,
          28,
          29,
          30,
          31,
          32,
          33,
          34,
          35,
          36,
          37,
          38,
          39,
          40,
          41,
          42,
          43,
          44,
          45,
          46,
          47,
          48,
          49,
          50,
          51,
          52,
          53,
          54,
          55,
          56,
          57,
          58,
          59,
          60,
          61,
          62,
          63,
          64,
          65,
          66,
          67,
          68,
          69,
          70,
          71,
          72,
          73,
          74,
          75,
          76,
          77,
          78,
          79,
          80,
          81,
          82,
          83,
          84,
          85,
          86,
          87,
          88,
          89,
          90,
          91,
          92,
          93,
          94,
          95,
          96,
          97,
          98,
          99,
          100
         ],
         "y": [
          0.5,
          0.52,
          0.5,
          0.495,
          0.51,
          0.55,
          0.575,
          0.51,
          0.485,
          0.47,
          0.44,
          0.425,
          0.465,
          0.4,
          0.355,
          0.4,
          0.4,
          0.36,
          0.305,
          0.265,
          0.25,
          0.215,
          0.18,
          0.19,
          0.185,
          0.165,
          0.16,
          0.175,
          0.185,
          0.19,
          0.22,
          0.235,
          0.24,
          0.2,
          0.175,
          0.17,
          0.135,
          0.12,
          0.125,
          0.13,
          0.14,
          0.145,
          0.085,
          0.035,
          0.045,
          0.035,
          0.055,
          0.04,
          0.03,
          0.015,
          0.015,
          0.01,
          0.005,
          0.005,
          0,
          0,
          0,
          0,
          0,
          0,
          0,
          0,
          0,
          0,
          0,
          0,
          0,
          0,
          0,
          0,
          0,
          0,
          0,
          0,
          0,
          0,
          0,
          0,
          0,
          0,
          0,
          0,
          0,
          0,
          0,
          0,
          0,
          0,
          0,
          0,
          0,
          0,
          0,
          0,
          0,
          0,
          0,
          0,
          0,
          0,
          0
         ]
        },
        {
         "showlegend": false,
         "type": "scatter",
         "x": [
          0,
          1,
          2,
          3,
          4,
          5,
          6,
          7,
          8,
          9,
          10,
          11,
          12,
          13,
          14,
          15,
          16,
          17,
          18,
          19,
          20,
          21,
          22,
          23,
          24,
          25,
          26,
          27,
          28,
          29,
          30,
          31,
          32,
          33,
          34,
          35,
          36,
          37,
          38,
          39,
          40,
          41,
          42,
          43,
          44,
          45,
          46,
          47,
          48,
          49,
          50,
          51,
          52,
          53,
          54,
          55,
          56,
          57,
          58,
          59,
          60,
          61,
          62,
          63,
          64,
          65,
          66,
          67,
          68,
          69,
          70,
          71,
          72,
          73,
          74,
          75,
          76,
          77,
          78,
          79,
          80,
          81,
          82,
          83,
          84,
          85,
          86,
          87,
          88,
          89,
          90,
          91,
          92,
          93,
          94,
          95,
          96,
          97,
          98,
          99,
          100
         ],
         "y": [
          0.5,
          0.575,
          0.57,
          0.59,
          0.635,
          0.665,
          0.635,
          0.675,
          0.675,
          0.68,
          0.735,
          0.745,
          0.725,
          0.75,
          0.76,
          0.72,
          0.675,
          0.665,
          0.63,
          0.615,
          0.545,
          0.57,
          0.545,
          0.505,
          0.5,
          0.505,
          0.52,
          0.44,
          0.485,
          0.525,
          0.49,
          0.475,
          0.515,
          0.485,
          0.475,
          0.48,
          0.47,
          0.475,
          0.465,
          0.475,
          0.43,
          0.425,
          0.37,
          0.42,
          0.45,
          0.53,
          0.495,
          0.515,
          0.56,
          0.53,
          0.56,
          0.585,
          0.59,
          0.655,
          0.63,
          0.69,
          0.68,
          0.71,
          0.73,
          0.72,
          0.765,
          0.72,
          0.675,
          0.655,
          0.68,
          0.64,
          0.68,
          0.7,
          0.75,
          0.735,
          0.69,
          0.68,
          0.67,
          0.705,
          0.7,
          0.74,
          0.72,
          0.715,
          0.68,
          0.67,
          0.62,
          0.635,
          0.575,
          0.555,
          0.54,
          0.59,
          0.595,
          0.655,
          0.68,
          0.625,
          0.605,
          0.655,
          0.64,
          0.67,
          0.675,
          0.695,
          0.725,
          0.74,
          0.79,
          0.75,
          0.765
         ]
        },
        {
         "showlegend": false,
         "type": "scatter",
         "x": [
          0,
          1,
          2,
          3,
          4,
          5,
          6,
          7,
          8,
          9,
          10,
          11,
          12,
          13,
          14,
          15,
          16,
          17,
          18,
          19,
          20,
          21,
          22,
          23,
          24,
          25,
          26,
          27,
          28,
          29,
          30,
          31,
          32,
          33,
          34,
          35,
          36,
          37,
          38,
          39,
          40,
          41,
          42,
          43,
          44,
          45,
          46,
          47,
          48,
          49,
          50,
          51,
          52,
          53,
          54,
          55,
          56,
          57,
          58,
          59,
          60,
          61,
          62,
          63,
          64,
          65,
          66,
          67,
          68,
          69,
          70,
          71,
          72,
          73,
          74,
          75,
          76,
          77,
          78,
          79,
          80,
          81,
          82,
          83,
          84,
          85,
          86,
          87,
          88,
          89,
          90,
          91,
          92,
          93,
          94,
          95,
          96,
          97,
          98,
          99,
          100
         ],
         "y": [
          0.5,
          0.46,
          0.49,
          0.495,
          0.425,
          0.39,
          0.41,
          0.425,
          0.455,
          0.425,
          0.425,
          0.42,
          0.41,
          0.385,
          0.34,
          0.385,
          0.345,
          0.31,
          0.345,
          0.355,
          0.345,
          0.39,
          0.37,
          0.335,
          0.36,
          0.41,
          0.415,
          0.425,
          0.41,
          0.385,
          0.36,
          0.385,
          0.35,
          0.355,
          0.325,
          0.36,
          0.325,
          0.37,
          0.375,
          0.335,
          0.285,
          0.315,
          0.3,
          0.325,
          0.28,
          0.245,
          0.225,
          0.205,
          0.185,
          0.175,
          0.195,
          0.19,
          0.17,
          0.175,
          0.18,
          0.18,
          0.165,
          0.125,
          0.145,
          0.18,
          0.205,
          0.215,
          0.18,
          0.15,
          0.11,
          0.11,
          0.1,
          0.14,
          0.13,
          0.115,
          0.14,
          0.155,
          0.15,
          0.145,
          0.155,
          0.165,
          0.2,
          0.25,
          0.25,
          0.25,
          0.315,
          0.295,
          0.315,
          0.345,
          0.32,
          0.33,
          0.32,
          0.24,
          0.255,
          0.295,
          0.245,
          0.235,
          0.21,
          0.215,
          0.23,
          0.265,
          0.26,
          0.235,
          0.2,
          0.18,
          0.205
         ]
        },
        {
         "showlegend": false,
         "type": "scatter",
         "x": [
          0,
          1,
          2,
          3,
          4,
          5,
          6,
          7,
          8,
          9,
          10,
          11,
          12,
          13,
          14,
          15,
          16,
          17,
          18,
          19,
          20,
          21,
          22,
          23,
          24,
          25,
          26,
          27,
          28,
          29,
          30,
          31,
          32,
          33,
          34,
          35,
          36,
          37,
          38,
          39,
          40,
          41,
          42,
          43,
          44,
          45,
          46,
          47,
          48,
          49,
          50,
          51,
          52,
          53,
          54,
          55,
          56,
          57,
          58,
          59,
          60,
          61,
          62,
          63,
          64,
          65,
          66,
          67,
          68,
          69,
          70,
          71,
          72,
          73,
          74,
          75,
          76,
          77,
          78,
          79,
          80,
          81,
          82,
          83,
          84,
          85,
          86,
          87,
          88,
          89,
          90,
          91,
          92,
          93,
          94,
          95,
          96,
          97,
          98,
          99,
          100
         ],
         "y": [
          0.5,
          0.46,
          0.41,
          0.4,
          0.34,
          0.31,
          0.35,
          0.35,
          0.405,
          0.38,
          0.445,
          0.415,
          0.455,
          0.455,
          0.455,
          0.485,
          0.485,
          0.475,
          0.44,
          0.445,
          0.45,
          0.365,
          0.38,
          0.41,
          0.415,
          0.39,
          0.385,
          0.42,
          0.375,
          0.37,
          0.34,
          0.315,
          0.28,
          0.31,
          0.26,
          0.25,
          0.245,
          0.23,
          0.205,
          0.23,
          0.225,
          0.295,
          0.33,
          0.345,
          0.28,
          0.295,
          0.35,
          0.395,
          0.4,
          0.42,
          0.37,
          0.465,
          0.435,
          0.43,
          0.455,
          0.535,
          0.595,
          0.605,
          0.6,
          0.635,
          0.64,
          0.655,
          0.64,
          0.635,
          0.62,
          0.645,
          0.65,
          0.65,
          0.685,
          0.61,
          0.65,
          0.58,
          0.58,
          0.58,
          0.635,
          0.64,
          0.73,
          0.67,
          0.65,
          0.7,
          0.685,
          0.69,
          0.725,
          0.72,
          0.705,
          0.74,
          0.71,
          0.755,
          0.715,
          0.67,
          0.68,
          0.685,
          0.685,
          0.705,
          0.76,
          0.715,
          0.665,
          0.61,
          0.6,
          0.585,
          0.62
         ]
        }
       ],
       "layout": {
        "template": {
         "data": {
          "bar": [
           {
            "error_x": {
             "color": "#2a3f5f"
            },
            "error_y": {
             "color": "#2a3f5f"
            },
            "marker": {
             "line": {
              "color": "white",
              "width": 0.5
             },
             "pattern": {
              "fillmode": "overlay",
              "size": 10,
              "solidity": 0.2
             }
            },
            "type": "bar"
           }
          ],
          "barpolar": [
           {
            "marker": {
             "line": {
              "color": "white",
              "width": 0.5
             },
             "pattern": {
              "fillmode": "overlay",
              "size": 10,
              "solidity": 0.2
             }
            },
            "type": "barpolar"
           }
          ],
          "carpet": [
           {
            "aaxis": {
             "endlinecolor": "#2a3f5f",
             "gridcolor": "#C8D4E3",
             "linecolor": "#C8D4E3",
             "minorgridcolor": "#C8D4E3",
             "startlinecolor": "#2a3f5f"
            },
            "baxis": {
             "endlinecolor": "#2a3f5f",
             "gridcolor": "#C8D4E3",
             "linecolor": "#C8D4E3",
             "minorgridcolor": "#C8D4E3",
             "startlinecolor": "#2a3f5f"
            },
            "type": "carpet"
           }
          ],
          "choropleth": [
           {
            "colorbar": {
             "outlinewidth": 0,
             "ticks": ""
            },
            "type": "choropleth"
           }
          ],
          "contour": [
           {
            "colorbar": {
             "outlinewidth": 0,
             "ticks": ""
            },
            "colorscale": [
             [
              0,
              "#0d0887"
             ],
             [
              0.1111111111111111,
              "#46039f"
             ],
             [
              0.2222222222222222,
              "#7201a8"
             ],
             [
              0.3333333333333333,
              "#9c179e"
             ],
             [
              0.4444444444444444,
              "#bd3786"
             ],
             [
              0.5555555555555556,
              "#d8576b"
             ],
             [
              0.6666666666666666,
              "#ed7953"
             ],
             [
              0.7777777777777778,
              "#fb9f3a"
             ],
             [
              0.8888888888888888,
              "#fdca26"
             ],
             [
              1,
              "#f0f921"
             ]
            ],
            "type": "contour"
           }
          ],
          "contourcarpet": [
           {
            "colorbar": {
             "outlinewidth": 0,
             "ticks": ""
            },
            "type": "contourcarpet"
           }
          ],
          "heatmap": [
           {
            "colorbar": {
             "outlinewidth": 0,
             "ticks": ""
            },
            "colorscale": [
             [
              0,
              "#0d0887"
             ],
             [
              0.1111111111111111,
              "#46039f"
             ],
             [
              0.2222222222222222,
              "#7201a8"
             ],
             [
              0.3333333333333333,
              "#9c179e"
             ],
             [
              0.4444444444444444,
              "#bd3786"
             ],
             [
              0.5555555555555556,
              "#d8576b"
             ],
             [
              0.6666666666666666,
              "#ed7953"
             ],
             [
              0.7777777777777778,
              "#fb9f3a"
             ],
             [
              0.8888888888888888,
              "#fdca26"
             ],
             [
              1,
              "#f0f921"
             ]
            ],
            "type": "heatmap"
           }
          ],
          "heatmapgl": [
           {
            "colorbar": {
             "outlinewidth": 0,
             "ticks": ""
            },
            "colorscale": [
             [
              0,
              "#0d0887"
             ],
             [
              0.1111111111111111,
              "#46039f"
             ],
             [
              0.2222222222222222,
              "#7201a8"
             ],
             [
              0.3333333333333333,
              "#9c179e"
             ],
             [
              0.4444444444444444,
              "#bd3786"
             ],
             [
              0.5555555555555556,
              "#d8576b"
             ],
             [
              0.6666666666666666,
              "#ed7953"
             ],
             [
              0.7777777777777778,
              "#fb9f3a"
             ],
             [
              0.8888888888888888,
              "#fdca26"
             ],
             [
              1,
              "#f0f921"
             ]
            ],
            "type": "heatmapgl"
           }
          ],
          "histogram": [
           {
            "marker": {
             "pattern": {
              "fillmode": "overlay",
              "size": 10,
              "solidity": 0.2
             }
            },
            "type": "histogram"
           }
          ],
          "histogram2d": [
           {
            "colorbar": {
             "outlinewidth": 0,
             "ticks": ""
            },
            "colorscale": [
             [
              0,
              "#0d0887"
             ],
             [
              0.1111111111111111,
              "#46039f"
             ],
             [
              0.2222222222222222,
              "#7201a8"
             ],
             [
              0.3333333333333333,
              "#9c179e"
             ],
             [
              0.4444444444444444,
              "#bd3786"
             ],
             [
              0.5555555555555556,
              "#d8576b"
             ],
             [
              0.6666666666666666,
              "#ed7953"
             ],
             [
              0.7777777777777778,
              "#fb9f3a"
             ],
             [
              0.8888888888888888,
              "#fdca26"
             ],
             [
              1,
              "#f0f921"
             ]
            ],
            "type": "histogram2d"
           }
          ],
          "histogram2dcontour": [
           {
            "colorbar": {
             "outlinewidth": 0,
             "ticks": ""
            },
            "colorscale": [
             [
              0,
              "#0d0887"
             ],
             [
              0.1111111111111111,
              "#46039f"
             ],
             [
              0.2222222222222222,
              "#7201a8"
             ],
             [
              0.3333333333333333,
              "#9c179e"
             ],
             [
              0.4444444444444444,
              "#bd3786"
             ],
             [
              0.5555555555555556,
              "#d8576b"
             ],
             [
              0.6666666666666666,
              "#ed7953"
             ],
             [
              0.7777777777777778,
              "#fb9f3a"
             ],
             [
              0.8888888888888888,
              "#fdca26"
             ],
             [
              1,
              "#f0f921"
             ]
            ],
            "type": "histogram2dcontour"
           }
          ],
          "mesh3d": [
           {
            "colorbar": {
             "outlinewidth": 0,
             "ticks": ""
            },
            "type": "mesh3d"
           }
          ],
          "parcoords": [
           {
            "line": {
             "colorbar": {
              "outlinewidth": 0,
              "ticks": ""
             }
            },
            "type": "parcoords"
           }
          ],
          "pie": [
           {
            "automargin": true,
            "type": "pie"
           }
          ],
          "scatter": [
           {
            "fillpattern": {
             "fillmode": "overlay",
             "size": 10,
             "solidity": 0.2
            },
            "type": "scatter"
           }
          ],
          "scatter3d": [
           {
            "line": {
             "colorbar": {
              "outlinewidth": 0,
              "ticks": ""
             }
            },
            "marker": {
             "colorbar": {
              "outlinewidth": 0,
              "ticks": ""
             }
            },
            "type": "scatter3d"
           }
          ],
          "scattercarpet": [
           {
            "marker": {
             "colorbar": {
              "outlinewidth": 0,
              "ticks": ""
             }
            },
            "type": "scattercarpet"
           }
          ],
          "scattergeo": [
           {
            "marker": {
             "colorbar": {
              "outlinewidth": 0,
              "ticks": ""
             }
            },
            "type": "scattergeo"
           }
          ],
          "scattergl": [
           {
            "marker": {
             "colorbar": {
              "outlinewidth": 0,
              "ticks": ""
             }
            },
            "type": "scattergl"
           }
          ],
          "scattermapbox": [
           {
            "marker": {
             "colorbar": {
              "outlinewidth": 0,
              "ticks": ""
             }
            },
            "type": "scattermapbox"
           }
          ],
          "scatterpolar": [
           {
            "marker": {
             "colorbar": {
              "outlinewidth": 0,
              "ticks": ""
             }
            },
            "type": "scatterpolar"
           }
          ],
          "scatterpolargl": [
           {
            "marker": {
             "colorbar": {
              "outlinewidth": 0,
              "ticks": ""
             }
            },
            "type": "scatterpolargl"
           }
          ],
          "scatterternary": [
           {
            "marker": {
             "colorbar": {
              "outlinewidth": 0,
              "ticks": ""
             }
            },
            "type": "scatterternary"
           }
          ],
          "surface": [
           {
            "colorbar": {
             "outlinewidth": 0,
             "ticks": ""
            },
            "colorscale": [
             [
              0,
              "#0d0887"
             ],
             [
              0.1111111111111111,
              "#46039f"
             ],
             [
              0.2222222222222222,
              "#7201a8"
             ],
             [
              0.3333333333333333,
              "#9c179e"
             ],
             [
              0.4444444444444444,
              "#bd3786"
             ],
             [
              0.5555555555555556,
              "#d8576b"
             ],
             [
              0.6666666666666666,
              "#ed7953"
             ],
             [
              0.7777777777777778,
              "#fb9f3a"
             ],
             [
              0.8888888888888888,
              "#fdca26"
             ],
             [
              1,
              "#f0f921"
             ]
            ],
            "type": "surface"
           }
          ],
          "table": [
           {
            "cells": {
             "fill": {
              "color": "#EBF0F8"
             },
             "line": {
              "color": "white"
             }
            },
            "header": {
             "fill": {
              "color": "#C8D4E3"
             },
             "line": {
              "color": "white"
             }
            },
            "type": "table"
           }
          ]
         },
         "layout": {
          "annotationdefaults": {
           "arrowcolor": "#2a3f5f",
           "arrowhead": 0,
           "arrowwidth": 1
          },
          "autotypenumbers": "strict",
          "coloraxis": {
           "colorbar": {
            "outlinewidth": 0,
            "ticks": ""
           }
          },
          "colorscale": {
           "diverging": [
            [
             0,
             "#8e0152"
            ],
            [
             0.1,
             "#c51b7d"
            ],
            [
             0.2,
             "#de77ae"
            ],
            [
             0.3,
             "#f1b6da"
            ],
            [
             0.4,
             "#fde0ef"
            ],
            [
             0.5,
             "#f7f7f7"
            ],
            [
             0.6,
             "#e6f5d0"
            ],
            [
             0.7,
             "#b8e186"
            ],
            [
             0.8,
             "#7fbc41"
            ],
            [
             0.9,
             "#4d9221"
            ],
            [
             1,
             "#276419"
            ]
           ],
           "sequential": [
            [
             0,
             "#0d0887"
            ],
            [
             0.1111111111111111,
             "#46039f"
            ],
            [
             0.2222222222222222,
             "#7201a8"
            ],
            [
             0.3333333333333333,
             "#9c179e"
            ],
            [
             0.4444444444444444,
             "#bd3786"
            ],
            [
             0.5555555555555556,
             "#d8576b"
            ],
            [
             0.6666666666666666,
             "#ed7953"
            ],
            [
             0.7777777777777778,
             "#fb9f3a"
            ],
            [
             0.8888888888888888,
             "#fdca26"
            ],
            [
             1,
             "#f0f921"
            ]
           ],
           "sequentialminus": [
            [
             0,
             "#0d0887"
            ],
            [
             0.1111111111111111,
             "#46039f"
            ],
            [
             0.2222222222222222,
             "#7201a8"
            ],
            [
             0.3333333333333333,
             "#9c179e"
            ],
            [
             0.4444444444444444,
             "#bd3786"
            ],
            [
             0.5555555555555556,
             "#d8576b"
            ],
            [
             0.6666666666666666,
             "#ed7953"
            ],
            [
             0.7777777777777778,
             "#fb9f3a"
            ],
            [
             0.8888888888888888,
             "#fdca26"
            ],
            [
             1,
             "#f0f921"
            ]
           ]
          },
          "colorway": [
           "#5a7976",
           "#6b8c8b",
           "#7ca09f",
           "#8eb3b4",
           "#9fc7c8"
          ],
          "font": {
           "color": "#2a3f5f"
          },
          "geo": {
           "bgcolor": "white",
           "lakecolor": "white",
           "landcolor": "white",
           "showlakes": true,
           "showland": true,
           "subunitcolor": "#C8D4E3"
          },
          "hoverlabel": {
           "align": "left"
          },
          "hovermode": "closest",
          "mapbox": {
           "style": "light"
          },
          "paper_bgcolor": "white",
          "plot_bgcolor": "white",
          "polar": {
           "angularaxis": {
            "gridcolor": "#EBF0F8",
            "linecolor": "#EBF0F8",
            "ticks": ""
           },
           "bgcolor": "white",
           "radialaxis": {
            "gridcolor": "#EBF0F8",
            "linecolor": "#EBF0F8",
            "ticks": ""
           }
          },
          "scene": {
           "xaxis": {
            "backgroundcolor": "white",
            "gridcolor": "#DFE8F3",
            "gridwidth": 2,
            "linecolor": "#EBF0F8",
            "showbackground": true,
            "ticks": "",
            "zerolinecolor": "#EBF0F8"
           },
           "yaxis": {
            "backgroundcolor": "white",
            "gridcolor": "#DFE8F3",
            "gridwidth": 2,
            "linecolor": "#EBF0F8",
            "showbackground": true,
            "ticks": "",
            "zerolinecolor": "#EBF0F8"
           },
           "zaxis": {
            "backgroundcolor": "white",
            "gridcolor": "#DFE8F3",
            "gridwidth": 2,
            "linecolor": "#EBF0F8",
            "showbackground": true,
            "ticks": "",
            "zerolinecolor": "#EBF0F8"
           }
          },
          "shapedefaults": {
           "line": {
            "color": "#2a3f5f"
           }
          },
          "ternary": {
           "aaxis": {
            "gridcolor": "#DFE8F3",
            "linecolor": "#A2B1C6",
            "ticks": ""
           },
           "baxis": {
            "gridcolor": "#DFE8F3",
            "linecolor": "#A2B1C6",
            "ticks": ""
           },
           "bgcolor": "white",
           "caxis": {
            "gridcolor": "#DFE8F3",
            "linecolor": "#A2B1C6",
            "ticks": ""
           }
          },
          "title": {
           "x": 0.05
          },
          "xaxis": {
           "automargin": true,
           "gridcolor": "#EBF0F8",
           "linecolor": "#EBF0F8",
           "ticks": "",
           "title": {
            "standoff": 15
           },
           "zerolinecolor": "#EBF0F8",
           "zerolinewidth": 2
          },
          "yaxis": {
           "automargin": true,
           "gridcolor": "#EBF0F8",
           "linecolor": "#EBF0F8",
           "ticks": "",
           "title": {
            "standoff": 15
           },
           "zerolinecolor": "#EBF0F8",
           "zerolinewidth": 2
          }
         }
        },
        "title": {
         "font": {
          "size": 16
         },
         "text": "Population Dimension N=100"
        },
        "xaxis": {
         "title": {
          "text": "Generations"
         }
        },
        "yaxis": {
         "range": [
          0,
          1
         ],
         "title": {
          "text": "Allele Frequency"
         }
        }
       }
      }
     },
     "metadata": {},
     "output_type": "display_data"
    }
   ],
   "source": [
    "plot_drift('drift')"
   ]
  }
 ],
 "metadata": {
  "kernelspec": {
   "display_name": "Python 3.10.4 ('graph_env')",
   "language": "python",
   "name": "python3"
  },
  "language_info": {
   "codemirror_mode": {
    "name": "ipython",
    "version": 3
   },
   "file_extension": ".py",
   "mimetype": "text/x-python",
   "name": "python",
   "nbconvert_exporter": "python",
   "pygments_lexer": "ipython3",
   "version": "3.10.4"
  },
  "orig_nbformat": 4,
  "vscode": {
   "interpreter": {
    "hash": "84008f750eda9db1360f02c1d1cb9911bce4b191a4ea7cc45a969c56db72f600"
   }
  }
 },
 "nbformat": 4,
 "nbformat_minor": 2
}
